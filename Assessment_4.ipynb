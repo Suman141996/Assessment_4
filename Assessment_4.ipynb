{
 "cells": [
  {
   "cell_type": "markdown",
   "metadata": {},
   "source": [
    "# **Introduction:-**\n",
    "\n",
    "The Movie Ratings dataset contains key information about movies, including their name, release year, runtime (in minutes), viewer ratings (out of 10), number of votes, genre, and language.\n",
    "\n",
    "Importance of Analysis:\n",
    "Understanding Audience Preferences: Analyze how different genres, languages, and runtimes influence viewer ratings.\n",
    "Trend Identification: Explore trends in movie popularity and ratings over time.\n",
    "Correlation Insights: Investigate relationships between movie runtime, ratings, and number of votes to understand factors driving success.\n",
    "This dataset provides valuable insights for understanding movie industry trends and audience behaviors.\n"
   ]
  },
  {
   "cell_type": "markdown",
   "metadata": {},
   "source": [
    "# **Importing Libraries**"
   ]
  },
  {
   "cell_type": "code",
   "execution_count": 87,
   "metadata": {},
   "outputs": [],
   "source": [
    "import numpy as np\n",
    "import pandas as pd\n",
    "import matplotlib.pyplot as plt\n",
    "import seaborn as sns\n",
    "import os\n",
    "import datetime\n",
    "\n"
   ]
  },
  {
   "cell_type": "code",
   "execution_count": 88,
   "metadata": {},
   "outputs": [
    {
     "data": {
      "text/plain": [
       "['Assessment 4.pdf', 'Dataset.csv']"
      ]
     },
     "execution_count": 88,
     "metadata": {},
     "output_type": "execute_result"
    }
   ],
   "source": [
    "input_path=r\"C:\\Users\\Suman Mondal\\Downloads\\1207 Assessment 4\\Assessment 4\"\n",
    "os.listdir(input_path)\n"
   ]
  },
  {
   "cell_type": "markdown",
   "metadata": {},
   "source": [
    "# **Load Data**"
   ]
  },
  {
   "cell_type": "code",
   "execution_count": 89,
   "metadata": {},
   "outputs": [
    {
     "data": {
      "text/html": [
       "<div>\n",
       "<style scoped>\n",
       "    .dataframe tbody tr th:only-of-type {\n",
       "        vertical-align: middle;\n",
       "    }\n",
       "\n",
       "    .dataframe tbody tr th {\n",
       "        vertical-align: top;\n",
       "    }\n",
       "\n",
       "    .dataframe thead th {\n",
       "        text-align: right;\n",
       "    }\n",
       "</style>\n",
       "<table border=\"1\" class=\"dataframe\">\n",
       "  <thead>\n",
       "    <tr style=\"text-align: right;\">\n",
       "      <th></th>\n",
       "      <th>ID</th>\n",
       "      <th>Movie Name</th>\n",
       "      <th>Year</th>\n",
       "      <th>Timing(min)</th>\n",
       "      <th>Rating(10)</th>\n",
       "      <th>Votes</th>\n",
       "      <th>Genre</th>\n",
       "      <th>Language</th>\n",
       "    </tr>\n",
       "  </thead>\n",
       "  <tbody>\n",
       "    <tr>\n",
       "      <th>0</th>\n",
       "      <td>tt0398974</td>\n",
       "      <td>Dr. Shaitan</td>\n",
       "      <td>1960</td>\n",
       "      <td>-</td>\n",
       "      <td>-</td>\n",
       "      <td>-</td>\n",
       "      <td>-</td>\n",
       "      <td>hindi</td>\n",
       "    </tr>\n",
       "    <tr>\n",
       "      <th>1</th>\n",
       "      <td>tt1702558</td>\n",
       "      <td>Nadir Khan</td>\n",
       "      <td>1968</td>\n",
       "      <td>-</td>\n",
       "      <td>-</td>\n",
       "      <td>-</td>\n",
       "      <td>-</td>\n",
       "      <td>urdu</td>\n",
       "    </tr>\n",
       "    <tr>\n",
       "      <th>2</th>\n",
       "      <td>tt0493437</td>\n",
       "      <td>Apna Sapna Money Money</td>\n",
       "      <td>2006</td>\n",
       "      <td>134 min</td>\n",
       "      <td>5.3</td>\n",
       "      <td>1,892</td>\n",
       "      <td>Comedy, Musical, Romance</td>\n",
       "      <td>hindi</td>\n",
       "    </tr>\n",
       "    <tr>\n",
       "      <th>3</th>\n",
       "      <td>tt0273405</td>\n",
       "      <td>Aag Aur Sholay</td>\n",
       "      <td>1987</td>\n",
       "      <td>-</td>\n",
       "      <td>2.2</td>\n",
       "      <td>20</td>\n",
       "      <td>-</td>\n",
       "      <td>urdu</td>\n",
       "    </tr>\n",
       "    <tr>\n",
       "      <th>4</th>\n",
       "      <td>tt0049595</td>\n",
       "      <td>Parivar</td>\n",
       "      <td>1956</td>\n",
       "      <td>-</td>\n",
       "      <td>7.4</td>\n",
       "      <td>21</td>\n",
       "      <td>Comedy, Drama, Family</td>\n",
       "      <td>hindi</td>\n",
       "    </tr>\n",
       "  </tbody>\n",
       "</table>\n",
       "</div>"
      ],
      "text/plain": [
       "          ID              Movie Name  Year Timing(min) Rating(10)  Votes  \\\n",
       "0  tt0398974             Dr. Shaitan  1960           -          -      -   \n",
       "1  tt1702558              Nadir Khan  1968           -          -      -   \n",
       "2  tt0493437  Apna Sapna Money Money  2006     134 min        5.3  1,892   \n",
       "3  tt0273405          Aag Aur Sholay  1987           -        2.2     20   \n",
       "4  tt0049595                 Parivar  1956           -        7.4     21   \n",
       "\n",
       "                                  Genre Language  \n",
       "0                                     -    hindi  \n",
       "1                                     -     urdu  \n",
       "2  Comedy, Musical, Romance                hindi  \n",
       "3                                     -     urdu  \n",
       "4     Comedy, Drama, Family                hindi  "
      ]
     },
     "execution_count": 89,
     "metadata": {},
     "output_type": "execute_result"
    }
   ],
   "source": [
    "Movies_data =pd.read_csv(input_path+\"\\\\Dataset.csv\")\n",
    "Movies_data.head()"
   ]
  },
  {
   "cell_type": "markdown",
   "metadata": {},
   "source": [
    "As we can see there is some \"-\" mentioned over null values we are keeping a copy of the dataset to further analysis"
   ]
  },
  {
   "cell_type": "code",
   "execution_count": 90,
   "metadata": {},
   "outputs": [
    {
     "name": "stdout",
     "output_type": "stream",
     "text": [
      "<class 'pandas.core.frame.DataFrame'>\n",
      "RangeIndex: 50602 entries, 0 to 50601\n",
      "Data columns (total 8 columns):\n",
      " #   Column       Non-Null Count  Dtype \n",
      "---  ------       --------------  ----- \n",
      " 0   ID           50602 non-null  object\n",
      " 1   Movie Name   50602 non-null  object\n",
      " 2   Year         49041 non-null  object\n",
      " 3   Timing(min)  50602 non-null  object\n",
      " 4   Rating(10)   50602 non-null  object\n",
      " 5   Votes        50602 non-null  object\n",
      " 6   Genre        50602 non-null  object\n",
      " 7   Language     50602 non-null  object\n",
      "dtypes: object(8)\n",
      "memory usage: 3.1+ MB\n"
     ]
    }
   ],
   "source": [
    "Movies_copy = Movies_data.copy()\n",
    "Movies_copy.info()"
   ]
  },
  {
   "cell_type": "markdown",
   "metadata": {},
   "source": [
    "# **Task 2(Data Cleaning)**\n",
    "\n",
    "Primary Inspection:\n",
    "<br>In this dataset the Nan Values are denoted by(-), for that it is showing wrong no-null values\n",
    "<br> We have to replace them with blank value and study further dataset\n"
   ]
  },
  {
   "cell_type": "code",
   "execution_count": 91,
   "metadata": {},
   "outputs": [
    {
     "data": {
      "text/plain": [
       "ID              2508\n",
       "Movie Name         0\n",
       "Year            1561\n",
       "Timing(min)    25892\n",
       "Rating(10)     26926\n",
       "Votes          26925\n",
       "Genre           8581\n",
       "Language           0\n",
       "dtype: int64"
      ]
     },
     "execution_count": 91,
     "metadata": {},
     "output_type": "execute_result"
    }
   ],
   "source": [
    "#Replacing (-) with blank\n",
    "Movies_copy.replace(\"-\",np.nan, inplace=True)\n",
    "Movies_copy.isnull().sum()"
   ]
  },
  {
   "cell_type": "code",
   "execution_count": 92,
   "metadata": {},
   "outputs": [
    {
     "name": "stdout",
     "output_type": "stream",
     "text": [
      "Total number of rows where rating, votes, timing, genre, and year are null: 99\n"
     ]
    }
   ],
   "source": [
    "#Filter rows where rating, votes, timing, genre, and year are null\n",
    "blank_rows = Movies_copy[(Movies_copy['Rating(10)'].isnull()) & \n",
    "                    (Movies_copy['Votes'].isnull()) & \n",
    "                    (Movies_copy['Timing(min)'].isnull()) & \n",
    "                    (Movies_copy['Genre'].isnull()) & \n",
    "                    (Movies_copy['Year'].isnull())]\n",
    "# Step 2: Count the number of such rows\n",
    "blank_rows = len(blank_rows)\n",
    "\n",
    "# Display the total number of rows where rating, votes, timing, genre, and year are null\n",
    "print(f\"Total number of rows where rating, votes, timing, genre, and year are null: {blank_rows}\")"
   ]
  },
  {
   "cell_type": "markdown",
   "metadata": {},
   "source": [
    "This data set contains 99 rows where rating, votes, timing, genre, and year has Null values which will not help in our analysis, so drop this rows from our dataset"
   ]
  },
  {
   "cell_type": "code",
   "execution_count": 93,
   "metadata": {},
   "outputs": [
    {
     "data": {
      "text/html": [
       "<div>\n",
       "<style scoped>\n",
       "    .dataframe tbody tr th:only-of-type {\n",
       "        vertical-align: middle;\n",
       "    }\n",
       "\n",
       "    .dataframe tbody tr th {\n",
       "        vertical-align: top;\n",
       "    }\n",
       "\n",
       "    .dataframe thead th {\n",
       "        text-align: right;\n",
       "    }\n",
       "</style>\n",
       "<table border=\"1\" class=\"dataframe\">\n",
       "  <thead>\n",
       "    <tr style=\"text-align: right;\">\n",
       "      <th></th>\n",
       "      <th>ID</th>\n",
       "      <th>Movie Name</th>\n",
       "      <th>Year</th>\n",
       "      <th>Timing(min)</th>\n",
       "      <th>Rating(10)</th>\n",
       "      <th>Votes</th>\n",
       "      <th>Genre</th>\n",
       "      <th>Language</th>\n",
       "    </tr>\n",
       "  </thead>\n",
       "  <tbody>\n",
       "    <tr>\n",
       "      <th>0</th>\n",
       "      <td>tt0398974</td>\n",
       "      <td>Dr. Shaitan</td>\n",
       "      <td>1960</td>\n",
       "      <td>NaN</td>\n",
       "      <td>NaN</td>\n",
       "      <td>NaN</td>\n",
       "      <td>NaN</td>\n",
       "      <td>hindi</td>\n",
       "    </tr>\n",
       "    <tr>\n",
       "      <th>1</th>\n",
       "      <td>tt1702558</td>\n",
       "      <td>Nadir Khan</td>\n",
       "      <td>1968</td>\n",
       "      <td>NaN</td>\n",
       "      <td>NaN</td>\n",
       "      <td>NaN</td>\n",
       "      <td>NaN</td>\n",
       "      <td>urdu</td>\n",
       "    </tr>\n",
       "    <tr>\n",
       "      <th>2</th>\n",
       "      <td>tt0493437</td>\n",
       "      <td>Apna Sapna Money Money</td>\n",
       "      <td>2006</td>\n",
       "      <td>134 min</td>\n",
       "      <td>5.3</td>\n",
       "      <td>1,892</td>\n",
       "      <td>Comedy, Musical, Romance</td>\n",
       "      <td>hindi</td>\n",
       "    </tr>\n",
       "    <tr>\n",
       "      <th>3</th>\n",
       "      <td>tt0273405</td>\n",
       "      <td>Aag Aur Sholay</td>\n",
       "      <td>1987</td>\n",
       "      <td>NaN</td>\n",
       "      <td>2.2</td>\n",
       "      <td>20</td>\n",
       "      <td>NaN</td>\n",
       "      <td>urdu</td>\n",
       "    </tr>\n",
       "    <tr>\n",
       "      <th>4</th>\n",
       "      <td>tt0049595</td>\n",
       "      <td>Parivar</td>\n",
       "      <td>1956</td>\n",
       "      <td>NaN</td>\n",
       "      <td>7.4</td>\n",
       "      <td>21</td>\n",
       "      <td>Comedy, Drama, Family</td>\n",
       "      <td>hindi</td>\n",
       "    </tr>\n",
       "  </tbody>\n",
       "</table>\n",
       "</div>"
      ],
      "text/plain": [
       "          ID              Movie Name  Year Timing(min) Rating(10)  Votes  \\\n",
       "0  tt0398974             Dr. Shaitan  1960         NaN        NaN    NaN   \n",
       "1  tt1702558              Nadir Khan  1968         NaN        NaN    NaN   \n",
       "2  tt0493437  Apna Sapna Money Money  2006     134 min        5.3  1,892   \n",
       "3  tt0273405          Aag Aur Sholay  1987         NaN        2.2     20   \n",
       "4  tt0049595                 Parivar  1956         NaN        7.4     21   \n",
       "\n",
       "                                  Genre Language  \n",
       "0                                   NaN    hindi  \n",
       "1                                   NaN     urdu  \n",
       "2  Comedy, Musical, Romance                hindi  \n",
       "3                                   NaN     urdu  \n",
       "4     Comedy, Drama, Family                hindi  "
      ]
     },
     "execution_count": 93,
     "metadata": {},
     "output_type": "execute_result"
    }
   ],
   "source": [
    "#Droping the rows where rating, votes, timing, genre, and year column contain null value\n",
    "Movies_copy.drop(Movies_copy[Movies_copy['Rating(10)'].isnull() &\n",
    "                   Movies_copy['Votes'].isnull() &\n",
    "                   Movies_copy['Timing(min)'].isnull() &\n",
    "                   Movies_copy['Genre'].isnull() &\n",
    "                   Movies_copy['Year'].isnull()].index, inplace=True)\n",
    "Movies_copy.head()"
   ]
  },
  {
   "cell_type": "code",
   "execution_count": 94,
   "metadata": {},
   "outputs": [
    {
     "name": "stdout",
     "output_type": "stream",
     "text": [
      "Total number of Duplicate Values: 8142\n"
     ]
    }
   ],
   "source": [
    "#Finding duplicate values\n",
    "duplicates_values = Movies_copy[Movies_copy['Movie Name'].duplicated(keep=\"first\")]\n",
    "\n",
    "# Step 2: Count the number of duplicate values\n",
    "duplicates_values = len(duplicates_values)\n",
    "\n",
    "# Display the number of duplicate values\n",
    "print(f\"Total number of Duplicate Values: {duplicates_values}\")\n"
   ]
  },
  {
   "cell_type": "code",
   "execution_count": 95,
   "metadata": {},
   "outputs": [
    {
     "data": {
      "text/plain": [
       "42361"
      ]
     },
     "execution_count": 95,
     "metadata": {},
     "output_type": "execute_result"
    }
   ],
   "source": [
    "# Finding Unique Movie names\n",
    "Unique_Movie_count=Movies_copy[\"Movie Name\"].nunique()\n",
    "Unique_Movie_count"
   ]
  },
  {
   "cell_type": "code",
   "execution_count": 96,
   "metadata": {},
   "outputs": [
    {
     "name": "stdout",
     "output_type": "stream",
     "text": [
      "<class 'pandas.core.frame.DataFrame'>\n",
      "Int64Index: 42361 entries, 0 to 50601\n",
      "Data columns (total 8 columns):\n",
      " #   Column       Non-Null Count  Dtype \n",
      "---  ------       --------------  ----- \n",
      " 0   ID           40240 non-null  object\n",
      " 1   Movie Name   42361 non-null  object\n",
      " 2   Year         41027 non-null  object\n",
      " 3   Timing(min)  20602 non-null  object\n",
      " 4   Rating(10)   19055 non-null  object\n",
      " 5   Votes        19056 non-null  object\n",
      " 6   Genre        35139 non-null  object\n",
      " 7   Language     42361 non-null  object\n",
      "dtypes: object(8)\n",
      "memory usage: 2.9+ MB\n"
     ]
    }
   ],
   "source": [
    "#Removing Duplicates\n",
    "Movies_copy = Movies_copy.drop_duplicates(subset='Movie Name', keep='first')\n",
    "Movies_copy.info()\n"
   ]
  },
  {
   "cell_type": "markdown",
   "metadata": {},
   "source": [
    "The Year, Timing(min), Rating(10), Votes column contains some other value apart from numeric values\n",
    "<br> The Year Column is not in proper date time format and contains few anomalies\n",
    "<br> The Timing(min) column is in string format and contains (min) after value also contains \",\" in few cells\n",
    "<br> The Ratings(10) column is in string format.\n",
    "<br> The Votes column is in string format and contains \",\" in few cells"
   ]
  },
  {
   "cell_type": "code",
   "execution_count": 97,
   "metadata": {},
   "outputs": [
    {
     "data": {
      "text/html": [
       "<div>\n",
       "<style scoped>\n",
       "    .dataframe tbody tr th:only-of-type {\n",
       "        vertical-align: middle;\n",
       "    }\n",
       "\n",
       "    .dataframe tbody tr th {\n",
       "        vertical-align: top;\n",
       "    }\n",
       "\n",
       "    .dataframe thead th {\n",
       "        text-align: right;\n",
       "    }\n",
       "</style>\n",
       "<table border=\"1\" class=\"dataframe\">\n",
       "  <thead>\n",
       "    <tr style=\"text-align: right;\">\n",
       "      <th></th>\n",
       "      <th>ID</th>\n",
       "      <th>Movie Name</th>\n",
       "      <th>Year</th>\n",
       "      <th>Timing(min)</th>\n",
       "      <th>Rating(10)</th>\n",
       "      <th>Votes</th>\n",
       "      <th>Genre</th>\n",
       "      <th>Language</th>\n",
       "    </tr>\n",
       "  </thead>\n",
       "  <tbody>\n",
       "    <tr>\n",
       "      <th>0</th>\n",
       "      <td>tt0398974</td>\n",
       "      <td>Dr. Shaitan</td>\n",
       "      <td>1960</td>\n",
       "      <td>NaN</td>\n",
       "      <td>NaN</td>\n",
       "      <td>NaN</td>\n",
       "      <td>NaN</td>\n",
       "      <td>hindi</td>\n",
       "    </tr>\n",
       "    <tr>\n",
       "      <th>1</th>\n",
       "      <td>tt1702558</td>\n",
       "      <td>Nadir Khan</td>\n",
       "      <td>1968</td>\n",
       "      <td>NaN</td>\n",
       "      <td>NaN</td>\n",
       "      <td>NaN</td>\n",
       "      <td>NaN</td>\n",
       "      <td>urdu</td>\n",
       "    </tr>\n",
       "    <tr>\n",
       "      <th>2</th>\n",
       "      <td>tt0493437</td>\n",
       "      <td>Apna Sapna Money Money</td>\n",
       "      <td>2006</td>\n",
       "      <td>134 min</td>\n",
       "      <td>5.3</td>\n",
       "      <td>1,892</td>\n",
       "      <td>Comedy, Musical, Romance</td>\n",
       "      <td>hindi</td>\n",
       "    </tr>\n",
       "    <tr>\n",
       "      <th>3</th>\n",
       "      <td>tt0273405</td>\n",
       "      <td>Aag Aur Sholay</td>\n",
       "      <td>1987</td>\n",
       "      <td>NaN</td>\n",
       "      <td>2.2</td>\n",
       "      <td>20</td>\n",
       "      <td>NaN</td>\n",
       "      <td>urdu</td>\n",
       "    </tr>\n",
       "    <tr>\n",
       "      <th>4</th>\n",
       "      <td>tt0049595</td>\n",
       "      <td>Parivar</td>\n",
       "      <td>1956</td>\n",
       "      <td>NaN</td>\n",
       "      <td>7.4</td>\n",
       "      <td>21</td>\n",
       "      <td>Comedy, Drama, Family</td>\n",
       "      <td>hindi</td>\n",
       "    </tr>\n",
       "  </tbody>\n",
       "</table>\n",
       "</div>"
      ],
      "text/plain": [
       "          ID              Movie Name  Year Timing(min) Rating(10)  Votes  \\\n",
       "0  tt0398974             Dr. Shaitan  1960         NaN        NaN    NaN   \n",
       "1  tt1702558              Nadir Khan  1968         NaN        NaN    NaN   \n",
       "2  tt0493437  Apna Sapna Money Money  2006     134 min        5.3  1,892   \n",
       "3  tt0273405          Aag Aur Sholay  1987         NaN        2.2     20   \n",
       "4  tt0049595                 Parivar  1956         NaN        7.4     21   \n",
       "\n",
       "                                  Genre Language  \n",
       "0                                   NaN    hindi  \n",
       "1                                   NaN     urdu  \n",
       "2  Comedy, Musical, Romance                hindi  \n",
       "3                                   NaN     urdu  \n",
       "4     Comedy, Drama, Family                hindi  "
      ]
     },
     "execution_count": 97,
     "metadata": {},
     "output_type": "execute_result"
    }
   ],
   "source": [
    "# Cleaning and extracting year only from the column Year\n",
    "\n",
    "# Convert 'year' column to string to handle non-string values\n",
    "Movies_copy['Year'] = Movies_copy['Year'].astype(str)\n",
    "\n",
    "# Extract the numeric part of the 'year' column using regex\n",
    "Movies_copy['Year'] = Movies_copy['Year'].str.extract('(\\d{4})')\n",
    "\n",
    "# Fill NaN values using the backfill method\n",
    "Movies_copy['Year'] = Movies_copy['Year'].fillna(method='bfill')\n",
    "\n",
    "# Convert the 'year' column to datetime\n",
    "Movies_copy['Year'] = pd.to_datetime(Movies_copy['Year'], format='%Y')\n",
    "\n",
    "# Extract only the year as integer\n",
    "Movies_copy['Year'] = Movies_copy['Year'].dt.year.astype(int)\n",
    "\n",
    "# Display the updated DataFrame\n",
    "Movies_copy.head()"
   ]
  },
  {
   "cell_type": "markdown",
   "metadata": {},
   "source": [
    "In this approach, we use the backfill method (bfill) to fill missing year values in the dataset. Backfill replaces NaN values with the next valid observation, maintaining data continuity. This method is useful when subsequent values can logically apply to earlier missing entries. It avoids data loss or distortion by filling in a sensible way rather than using arbitrary default values. By preserving the structure, we ensure consistent and reliable analysis."
   ]
  },
  {
   "cell_type": "code",
   "execution_count": 98,
   "metadata": {},
   "outputs": [
    {
     "name": "stdout",
     "output_type": "stream",
     "text": [
      "<class 'pandas.core.frame.DataFrame'>\n",
      "Int64Index: 42361 entries, 0 to 50601\n",
      "Data columns (total 8 columns):\n",
      " #   Column       Non-Null Count  Dtype \n",
      "---  ------       --------------  ----- \n",
      " 0   ID           40240 non-null  object\n",
      " 1   Movie Name   42361 non-null  object\n",
      " 2   Year         42361 non-null  int32 \n",
      " 3   Timing(min)  20602 non-null  object\n",
      " 4   Rating(10)   19055 non-null  object\n",
      " 5   Votes        19056 non-null  object\n",
      " 6   Genre        35139 non-null  object\n",
      " 7   Language     42361 non-null  object\n",
      "dtypes: int32(1), object(7)\n",
      "memory usage: 2.7+ MB\n"
     ]
    }
   ],
   "source": [
    "Movies_copy.info()"
   ]
  },
  {
   "cell_type": "code",
   "execution_count": 99,
   "metadata": {},
   "outputs": [],
   "source": [
    "# Cleaning and extracting time only from the column Timing(min)\n",
    "\n",
    "# Remove ' min'\n",
    "Movies_copy['Timing(min)'] = Movies_copy['Timing(min)'].str.replace(' min', '')\n",
    "\n",
    "# Remove commas\n",
    "Movies_copy['Timing(min)'] = Movies_copy['Timing(min)'].str.replace(',', '')  "
   ]
  },
  {
   "cell_type": "code",
   "execution_count": 100,
   "metadata": {},
   "outputs": [],
   "source": [
    "# Cleaning and extracting numeric value only from the column Votes\n",
    "\n",
    "# Remove commas\n",
    "Movies_copy['Votes'] = Movies_copy['Votes'].str.replace(',', '')"
   ]
  },
  {
   "cell_type": "code",
   "execution_count": 101,
   "metadata": {},
   "outputs": [
    {
     "name": "stdout",
     "output_type": "stream",
     "text": [
      "<class 'pandas.core.frame.DataFrame'>\n",
      "Int64Index: 42361 entries, 0 to 50601\n",
      "Data columns (total 8 columns):\n",
      " #   Column       Non-Null Count  Dtype  \n",
      "---  ------       --------------  -----  \n",
      " 0   ID           40240 non-null  object \n",
      " 1   Movie Name   42361 non-null  object \n",
      " 2   Year         42361 non-null  int32  \n",
      " 3   Timing(min)  20602 non-null  float64\n",
      " 4   Rating(10)   19055 non-null  float64\n",
      " 5   Votes        19055 non-null  float64\n",
      " 6   Genre        35139 non-null  object \n",
      " 7   Language     42361 non-null  object \n",
      "dtypes: float64(3), int32(1), object(4)\n",
      "memory usage: 2.7+ MB\n"
     ]
    },
    {
     "name": "stderr",
     "output_type": "stream",
     "text": [
      "C:\\Users\\Suman Mondal\\AppData\\Local\\Temp\\ipykernel_10164\\541582778.py:2: DeprecationWarning: In a future version, `df.iloc[:, i] = newvals` will attempt to set the values inplace instead of always setting a new array. To retain the old behavior, use either `df[df.columns[i]] = newvals` or, if columns are non-unique, `df.isetitem(i, newvals)`\n",
      "  Movies_copy.loc[:,'Rating(10)'] = pd.to_numeric(Movies_copy['Rating(10)'], errors='coerce')\n",
      "C:\\Users\\Suman Mondal\\AppData\\Local\\Temp\\ipykernel_10164\\541582778.py:3: DeprecationWarning: In a future version, `df.iloc[:, i] = newvals` will attempt to set the values inplace instead of always setting a new array. To retain the old behavior, use either `df[df.columns[i]] = newvals` or, if columns are non-unique, `df.isetitem(i, newvals)`\n",
      "  Movies_copy.loc[:,'Votes'] = pd.to_numeric(Movies_copy['Votes'], errors='coerce')\n",
      "C:\\Users\\Suman Mondal\\AppData\\Local\\Temp\\ipykernel_10164\\541582778.py:4: DeprecationWarning: In a future version, `df.iloc[:, i] = newvals` will attempt to set the values inplace instead of always setting a new array. To retain the old behavior, use either `df[df.columns[i]] = newvals` or, if columns are non-unique, `df.isetitem(i, newvals)`\n",
      "  Movies_copy.loc[:,'Timing(min)'] = pd.to_numeric(Movies_copy['Timing(min)'], errors='coerce')\n"
     ]
    }
   ],
   "source": [
    "#Converting The Numeric Column's Data Type\n",
    "Movies_copy.loc[:,'Rating(10)'] = pd.to_numeric(Movies_copy['Rating(10)'], errors='coerce')\n",
    "Movies_copy.loc[:,'Votes'] = pd.to_numeric(Movies_copy['Votes'], errors='coerce')\n",
    "Movies_copy.loc[:,'Timing(min)'] = pd.to_numeric(Movies_copy['Timing(min)'], errors='coerce')\n",
    "\n",
    "Movies_copy.info()"
   ]
  },
  {
   "cell_type": "code",
   "execution_count": 102,
   "metadata": {},
   "outputs": [
    {
     "data": {
      "text/plain": [
       "ID              2121\n",
       "Movie Name         0\n",
       "Year               0\n",
       "Timing(min)    21759\n",
       "Rating(10)     23306\n",
       "Votes          23306\n",
       "Genre           7222\n",
       "Language           0\n",
       "dtype: int64"
      ]
     },
     "execution_count": 102,
     "metadata": {},
     "output_type": "execute_result"
    }
   ],
   "source": [
    "Movies_copy.isnull().sum()"
   ]
  },
  {
   "cell_type": "markdown",
   "metadata": {},
   "source": [
    "We can see there are huge null values in Timing(min), Rating(10), Votes and Genre has, so we are going to impute null values instead of deleting to prevent data loss"
   ]
  },
  {
   "cell_type": "code",
   "execution_count": 103,
   "metadata": {},
   "outputs": [
    {
     "data": {
      "text/html": [
       "<div>\n",
       "<style scoped>\n",
       "    .dataframe tbody tr th:only-of-type {\n",
       "        vertical-align: middle;\n",
       "    }\n",
       "\n",
       "    .dataframe tbody tr th {\n",
       "        vertical-align: top;\n",
       "    }\n",
       "\n",
       "    .dataframe thead th {\n",
       "        text-align: right;\n",
       "    }\n",
       "</style>\n",
       "<table border=\"1\" class=\"dataframe\">\n",
       "  <thead>\n",
       "    <tr style=\"text-align: right;\">\n",
       "      <th></th>\n",
       "      <th>Year</th>\n",
       "      <th>Timing(min)</th>\n",
       "      <th>Rating(10)</th>\n",
       "      <th>Votes</th>\n",
       "    </tr>\n",
       "  </thead>\n",
       "  <tbody>\n",
       "    <tr>\n",
       "      <th>count</th>\n",
       "      <td>42361.000000</td>\n",
       "      <td>20602.000000</td>\n",
       "      <td>19055.000000</td>\n",
       "      <td>19055.000000</td>\n",
       "    </tr>\n",
       "    <tr>\n",
       "      <th>mean</th>\n",
       "      <td>1995.850051</td>\n",
       "      <td>123.732356</td>\n",
       "      <td>6.219412</td>\n",
       "      <td>1157.572448</td>\n",
       "    </tr>\n",
       "    <tr>\n",
       "      <th>std</th>\n",
       "      <td>22.065638</td>\n",
       "      <td>48.534626</td>\n",
       "      <td>1.434746</td>\n",
       "      <td>13118.118038</td>\n",
       "    </tr>\n",
       "    <tr>\n",
       "      <th>min</th>\n",
       "      <td>1913.000000</td>\n",
       "      <td>1.000000</td>\n",
       "      <td>1.000000</td>\n",
       "      <td>5.000000</td>\n",
       "    </tr>\n",
       "    <tr>\n",
       "      <th>25%</th>\n",
       "      <td>1981.000000</td>\n",
       "      <td>111.000000</td>\n",
       "      <td>5.300000</td>\n",
       "      <td>13.000000</td>\n",
       "    </tr>\n",
       "    <tr>\n",
       "      <th>50%</th>\n",
       "      <td>2002.000000</td>\n",
       "      <td>130.000000</td>\n",
       "      <td>6.400000</td>\n",
       "      <td>39.000000</td>\n",
       "    </tr>\n",
       "    <tr>\n",
       "      <th>75%</th>\n",
       "      <td>2015.000000</td>\n",
       "      <td>145.000000</td>\n",
       "      <td>7.200000</td>\n",
       "      <td>222.000000</td>\n",
       "    </tr>\n",
       "    <tr>\n",
       "      <th>max</th>\n",
       "      <td>2024.000000</td>\n",
       "      <td>2565.000000</td>\n",
       "      <td>10.000000</td>\n",
       "      <td>954861.000000</td>\n",
       "    </tr>\n",
       "  </tbody>\n",
       "</table>\n",
       "</div>"
      ],
      "text/plain": [
       "               Year   Timing(min)    Rating(10)          Votes\n",
       "count  42361.000000  20602.000000  19055.000000   19055.000000\n",
       "mean    1995.850051    123.732356      6.219412    1157.572448\n",
       "std       22.065638     48.534626      1.434746   13118.118038\n",
       "min     1913.000000      1.000000      1.000000       5.000000\n",
       "25%     1981.000000    111.000000      5.300000      13.000000\n",
       "50%     2002.000000    130.000000      6.400000      39.000000\n",
       "75%     2015.000000    145.000000      7.200000     222.000000\n",
       "max     2024.000000   2565.000000     10.000000  954861.000000"
      ]
     },
     "execution_count": 103,
     "metadata": {},
     "output_type": "execute_result"
    }
   ],
   "source": [
    "Movies_copy.describe()"
   ]
  },
  {
   "cell_type": "code",
   "execution_count": 104,
   "metadata": {},
   "outputs": [],
   "source": [
    "#Calculating mean and meadian of numeric Columns\n",
    "median_timing=np.ceil(Movies_copy['Timing(min)'].median())\n",
    "mean_rating=np.ceil(Movies_copy['Rating(10)'].mean())\n",
    "median_Votes=np.ceil(Movies_copy['Votes'].median())"
   ]
  },
  {
   "cell_type": "code",
   "execution_count": 105,
   "metadata": {},
   "outputs": [],
   "source": [
    "#Filling up null values of numerical columns by their mean and median to have a statistical overview and prevent data loss\n",
    "Movies_copy.loc[:,'Timing(min)'] = Movies_copy['Timing(min)'].fillna(median_timing)\n",
    "Movies_copy.loc[:,'Rating(10)'] = Movies_copy['Rating(10)'].fillna(mean_rating)\n",
    "Movies_copy.loc[:,'Votes'] = Movies_copy['Votes'].fillna(median_Votes)\n",
    "Movies_copy.loc[:,'Genre'] = Movies_copy['Genre'].fillna('Not Available') # Change Null values to Not Available\n"
   ]
  },
  {
   "cell_type": "code",
   "execution_count": 106,
   "metadata": {},
   "outputs": [
    {
     "name": "stderr",
     "output_type": "stream",
     "text": [
      "C:\\Users\\Suman Mondal\\AppData\\Local\\Temp\\ipykernel_10164\\3841541900.py:2: DeprecationWarning: In a future version, `df.iloc[:, i] = newvals` will attempt to set the values inplace instead of always setting a new array. To retain the old behavior, use either `df[df.columns[i]] = newvals` or, if columns are non-unique, `df.isetitem(i, newvals)`\n",
      "  Movies_copy.loc[:,'Timing(min)'] = Movies_copy['Timing(min)'].astype(int)\n",
      "C:\\Users\\Suman Mondal\\AppData\\Local\\Temp\\ipykernel_10164\\3841541900.py:3: DeprecationWarning: In a future version, `df.iloc[:, i] = newvals` will attempt to set the values inplace instead of always setting a new array. To retain the old behavior, use either `df[df.columns[i]] = newvals` or, if columns are non-unique, `df.isetitem(i, newvals)`\n",
      "  Movies_copy.loc[:,'Votes'] = Movies_copy['Votes'].astype(int)\n"
     ]
    },
    {
     "data": {
      "text/html": [
       "<div>\n",
       "<style scoped>\n",
       "    .dataframe tbody tr th:only-of-type {\n",
       "        vertical-align: middle;\n",
       "    }\n",
       "\n",
       "    .dataframe tbody tr th {\n",
       "        vertical-align: top;\n",
       "    }\n",
       "\n",
       "    .dataframe thead th {\n",
       "        text-align: right;\n",
       "    }\n",
       "</style>\n",
       "<table border=\"1\" class=\"dataframe\">\n",
       "  <thead>\n",
       "    <tr style=\"text-align: right;\">\n",
       "      <th></th>\n",
       "      <th>ID</th>\n",
       "      <th>Movie Name</th>\n",
       "      <th>Year</th>\n",
       "      <th>Timing(min)</th>\n",
       "      <th>Rating(10)</th>\n",
       "      <th>Votes</th>\n",
       "      <th>Genre</th>\n",
       "      <th>Language</th>\n",
       "    </tr>\n",
       "  </thead>\n",
       "  <tbody>\n",
       "    <tr>\n",
       "      <th>0</th>\n",
       "      <td>tt0398974</td>\n",
       "      <td>Dr. Shaitan</td>\n",
       "      <td>1960</td>\n",
       "      <td>130</td>\n",
       "      <td>7.0</td>\n",
       "      <td>39</td>\n",
       "      <td>Not Available</td>\n",
       "      <td>hindi</td>\n",
       "    </tr>\n",
       "    <tr>\n",
       "      <th>1</th>\n",
       "      <td>tt1702558</td>\n",
       "      <td>Nadir Khan</td>\n",
       "      <td>1968</td>\n",
       "      <td>130</td>\n",
       "      <td>7.0</td>\n",
       "      <td>39</td>\n",
       "      <td>Not Available</td>\n",
       "      <td>urdu</td>\n",
       "    </tr>\n",
       "    <tr>\n",
       "      <th>2</th>\n",
       "      <td>tt0493437</td>\n",
       "      <td>Apna Sapna Money Money</td>\n",
       "      <td>2006</td>\n",
       "      <td>134</td>\n",
       "      <td>5.3</td>\n",
       "      <td>1892</td>\n",
       "      <td>Comedy, Musical, Romance</td>\n",
       "      <td>hindi</td>\n",
       "    </tr>\n",
       "    <tr>\n",
       "      <th>3</th>\n",
       "      <td>tt0273405</td>\n",
       "      <td>Aag Aur Sholay</td>\n",
       "      <td>1987</td>\n",
       "      <td>130</td>\n",
       "      <td>2.2</td>\n",
       "      <td>20</td>\n",
       "      <td>Not Available</td>\n",
       "      <td>urdu</td>\n",
       "    </tr>\n",
       "    <tr>\n",
       "      <th>4</th>\n",
       "      <td>tt0049595</td>\n",
       "      <td>Parivar</td>\n",
       "      <td>1956</td>\n",
       "      <td>130</td>\n",
       "      <td>7.4</td>\n",
       "      <td>21</td>\n",
       "      <td>Comedy, Drama, Family</td>\n",
       "      <td>hindi</td>\n",
       "    </tr>\n",
       "    <tr>\n",
       "      <th>5</th>\n",
       "      <td>tt2930026</td>\n",
       "      <td>Humraah: The Traitor</td>\n",
       "      <td>2008</td>\n",
       "      <td>130</td>\n",
       "      <td>7.0</td>\n",
       "      <td>39</td>\n",
       "      <td>Thriller</td>\n",
       "      <td>hindi</td>\n",
       "    </tr>\n",
       "    <tr>\n",
       "      <th>6</th>\n",
       "      <td>tt6597160</td>\n",
       "      <td>Jacqueline I Am Coming</td>\n",
       "      <td>2019</td>\n",
       "      <td>112</td>\n",
       "      <td>7.9</td>\n",
       "      <td>16</td>\n",
       "      <td>Drama</td>\n",
       "      <td>hindi</td>\n",
       "    </tr>\n",
       "    <tr>\n",
       "      <th>7</th>\n",
       "      <td>tt0829459</td>\n",
       "      <td>A Mighty Heart</td>\n",
       "      <td>2007</td>\n",
       "      <td>108</td>\n",
       "      <td>6.6</td>\n",
       "      <td>26885</td>\n",
       "      <td>Biography, Drama, History</td>\n",
       "      <td>urdu</td>\n",
       "    </tr>\n",
       "    <tr>\n",
       "      <th>8</th>\n",
       "      <td>tt0154875</td>\n",
       "      <td>Midnight Mail</td>\n",
       "      <td>1939</td>\n",
       "      <td>130</td>\n",
       "      <td>7.0</td>\n",
       "      <td>39</td>\n",
       "      <td>Action</td>\n",
       "      <td>hindi</td>\n",
       "    </tr>\n",
       "    <tr>\n",
       "      <th>9</th>\n",
       "      <td>tt0364628</td>\n",
       "      <td>Raktalekha</td>\n",
       "      <td>1992</td>\n",
       "      <td>175</td>\n",
       "      <td>6.3</td>\n",
       "      <td>12</td>\n",
       "      <td>Drama</td>\n",
       "      <td>bengali</td>\n",
       "    </tr>\n",
       "  </tbody>\n",
       "</table>\n",
       "</div>"
      ],
      "text/plain": [
       "          ID              Movie Name  Year  Timing(min)  Rating(10)  Votes  \\\n",
       "0  tt0398974             Dr. Shaitan  1960          130         7.0     39   \n",
       "1  tt1702558              Nadir Khan  1968          130         7.0     39   \n",
       "2  tt0493437  Apna Sapna Money Money  2006          134         5.3   1892   \n",
       "3  tt0273405          Aag Aur Sholay  1987          130         2.2     20   \n",
       "4  tt0049595                 Parivar  1956          130         7.4     21   \n",
       "5  tt2930026    Humraah: The Traitor  2008          130         7.0     39   \n",
       "6  tt6597160  Jacqueline I Am Coming  2019          112         7.9     16   \n",
       "7  tt0829459          A Mighty Heart  2007          108         6.6  26885   \n",
       "8  tt0154875           Midnight Mail  1939          130         7.0     39   \n",
       "9  tt0364628              Raktalekha  1992          175         6.3     12   \n",
       "\n",
       "                                   Genre Language  \n",
       "0                          Not Available    hindi  \n",
       "1                          Not Available     urdu  \n",
       "2   Comedy, Musical, Romance                hindi  \n",
       "3                          Not Available     urdu  \n",
       "4      Comedy, Drama, Family                hindi  \n",
       "5                   Thriller                hindi  \n",
       "6                      Drama                hindi  \n",
       "7  Biography, Drama, History                 urdu  \n",
       "8                     Action                hindi  \n",
       "9                      Drama              bengali  "
      ]
     },
     "execution_count": 106,
     "metadata": {},
     "output_type": "execute_result"
    }
   ],
   "source": [
    "#Changing Datatype to int\n",
    "Movies_copy.loc[:,'Timing(min)'] = Movies_copy['Timing(min)'].astype(int)\n",
    "Movies_copy.loc[:,'Votes'] = Movies_copy['Votes'].astype(int)\n",
    "Movies_copy.loc[:,'Rating(10)'] = Movies_copy['Rating(10)']\n",
    "Movies_copy.head(10)"
   ]
  },
  {
   "cell_type": "code",
   "execution_count": 107,
   "metadata": {},
   "outputs": [
    {
     "data": {
      "text/html": [
       "<div>\n",
       "<style scoped>\n",
       "    .dataframe tbody tr th:only-of-type {\n",
       "        vertical-align: middle;\n",
       "    }\n",
       "\n",
       "    .dataframe tbody tr th {\n",
       "        vertical-align: top;\n",
       "    }\n",
       "\n",
       "    .dataframe thead th {\n",
       "        text-align: right;\n",
       "    }\n",
       "</style>\n",
       "<table border=\"1\" class=\"dataframe\">\n",
       "  <thead>\n",
       "    <tr style=\"text-align: right;\">\n",
       "      <th></th>\n",
       "      <th>Year</th>\n",
       "      <th>Timing(min)</th>\n",
       "      <th>Rating(10)</th>\n",
       "      <th>Votes</th>\n",
       "    </tr>\n",
       "  </thead>\n",
       "  <tbody>\n",
       "    <tr>\n",
       "      <th>count</th>\n",
       "      <td>42361.000000</td>\n",
       "      <td>42361.000000</td>\n",
       "      <td>42361.000000</td>\n",
       "      <td>42361.000000</td>\n",
       "    </tr>\n",
       "    <tr>\n",
       "      <th>mean</th>\n",
       "      <td>1995.850051</td>\n",
       "      <td>126.951772</td>\n",
       "      <td>6.648873</td>\n",
       "      <td>542.160879</td>\n",
       "    </tr>\n",
       "    <tr>\n",
       "      <th>std</th>\n",
       "      <td>22.065638</td>\n",
       "      <td>33.991483</td>\n",
       "      <td>1.037657</td>\n",
       "      <td>8815.634872</td>\n",
       "    </tr>\n",
       "    <tr>\n",
       "      <th>min</th>\n",
       "      <td>1913.000000</td>\n",
       "      <td>1.000000</td>\n",
       "      <td>1.000000</td>\n",
       "      <td>5.000000</td>\n",
       "    </tr>\n",
       "    <tr>\n",
       "      <th>25%</th>\n",
       "      <td>1981.000000</td>\n",
       "      <td>130.000000</td>\n",
       "      <td>6.600000</td>\n",
       "      <td>39.000000</td>\n",
       "    </tr>\n",
       "    <tr>\n",
       "      <th>50%</th>\n",
       "      <td>2002.000000</td>\n",
       "      <td>130.000000</td>\n",
       "      <td>7.000000</td>\n",
       "      <td>39.000000</td>\n",
       "    </tr>\n",
       "    <tr>\n",
       "      <th>75%</th>\n",
       "      <td>2015.000000</td>\n",
       "      <td>130.000000</td>\n",
       "      <td>7.000000</td>\n",
       "      <td>39.000000</td>\n",
       "    </tr>\n",
       "    <tr>\n",
       "      <th>max</th>\n",
       "      <td>2024.000000</td>\n",
       "      <td>2565.000000</td>\n",
       "      <td>10.000000</td>\n",
       "      <td>954861.000000</td>\n",
       "    </tr>\n",
       "  </tbody>\n",
       "</table>\n",
       "</div>"
      ],
      "text/plain": [
       "               Year   Timing(min)    Rating(10)          Votes\n",
       "count  42361.000000  42361.000000  42361.000000   42361.000000\n",
       "mean    1995.850051    126.951772      6.648873     542.160879\n",
       "std       22.065638     33.991483      1.037657    8815.634872\n",
       "min     1913.000000      1.000000      1.000000       5.000000\n",
       "25%     1981.000000    130.000000      6.600000      39.000000\n",
       "50%     2002.000000    130.000000      7.000000      39.000000\n",
       "75%     2015.000000    130.000000      7.000000      39.000000\n",
       "max     2024.000000   2565.000000     10.000000  954861.000000"
      ]
     },
     "execution_count": 107,
     "metadata": {},
     "output_type": "execute_result"
    }
   ],
   "source": [
    "Movies_copy.describe()"
   ]
  },
  {
   "cell_type": "markdown",
   "metadata": {},
   "source": [
    "# **Task 3**\n",
    "\n",
    "## Univariate Analysis:\n",
    "1. Distribution of Ratings\n",
    "2. Most Common Ratings Given \n",
    "3. Analyze Genre Distribution"
   ]
  },
  {
   "cell_type": "code",
   "execution_count": 108,
   "metadata": {},
   "outputs": [
    {
     "data": {
      "text/plain": [
       "count    42361.000000\n",
       "mean         6.648873\n",
       "std          1.037657\n",
       "min          1.000000\n",
       "25%          6.600000\n",
       "50%          7.000000\n",
       "75%          7.000000\n",
       "max         10.000000\n",
       "Name: Rating(10), dtype: float64"
      ]
     },
     "execution_count": 108,
     "metadata": {},
     "output_type": "execute_result"
    }
   ],
   "source": [
    "# 1.Analyzing the Distribution of Ratings\n",
    "Movies_copy['Rating(10)'].describe()"
   ]
  },
  {
   "cell_type": "code",
   "execution_count": 109,
   "metadata": {},
   "outputs": [
    {
     "data": {
      "image/png": "[encoded data removed]",
      "text/plain": [
       "<Figure size 800x600 with 1 Axes>"
      ]
     },
     "metadata": {},
     "output_type": "display_data"
    }
   ],
   "source": [
    "# Set the style of matplotlib\n",
    "sns.set_style('whitegrid')\n",
    "\n",
    "# Create a histogram for the rating column\n",
    "plt.figure(figsize=(8, 6))\n",
    "sns.histplot(Movies_copy['Rating(10)'], bins=10, kde=True)  # kde=True adds a kernel density estimate\n",
    "plt.title('Distribution of Movie Ratings')\n",
    "plt.xlabel('Rating (out of 10)')\n",
    "plt.ylabel('Frequency')\n",
    "plt.xlim(0, 10)  # Limit x-axis from 0 to 10 for ratings\n",
    "plt.grid(axis='y')\n",
    "\n",
    "# Show the plot\n",
    "plt.show()"
   ]
  },
  {
   "cell_type": "markdown",
   "metadata": {},
   "source": [
    "## From Analyzing the Distribution of Ratings we find:\n",
    "\n",
    "1. Average Rating: The average movie rating is approximately 6.65, indicating a generally positive reception among viewers, although there is some variability in the ratings as shown by the standard deviation of 1.04.\n",
    "\n",
    "2. Distribution Characteristics: The median rating of 7.0, along with the first quartile at 6.6 and the third quartile at 7.0, suggests a distribution that may be slightly skewed, with a significant number of films receiving ratings above 7.\n",
    "\n",
    "3. Range of Ratings: The ratings span from a minimum of 1.0 to a maximum of 10.0, reflecting a diverse range of viewer opinions, with some movies rated very poorly while others achieve the highest ratings possible.\n",
    "\n",
    "## Insights from the Distribution of Movie Ratings\n",
    "\n",
    "\n",
    "1. Central Tendency: The sharp peak in ratings between 6 and 8 indicates that most movies receive ratings within this range, demonstrating a strong central tendency where average ratings cluster.\n",
    "\n",
    "2. Symmetry and Positive Skew: The distribution appears somewhat symmetrical around the peak, but there is a slightly heavier tail towards higher ratings (8-10). This suggests that users are more inclined to give positive ratings rather than negative ones.\n",
    "\n",
    "3. Low Ratings: The density of ratings below 4 is minimal, indicating that very few movies receive extremely low ratings. This may reflect the IMDb community's reluctance to rate movies as poor or suggest that fewer low-quality films exist in the dataset.\n",
    "\n",
    "4. Exceptional High Ratings: The tapering off of the density after a rating of 8 shows that very few movies achieve exceptionally high ratings (9 or above), which aligns with the notion that only a select few films receive critical acclaim and universal appreciation.\n",
    "\n",
    "5. Narrow Distribution: The relatively narrow distribution of ratings suggests that most ratings fall within a limited range (6-8), indicating that users tend to rate movies conservatively, with few films being considered either very poor or outstandingly good.\n",
    "\n",
    "\n",
    "## Key Insights:\n",
    "\n",
    "1. Dominant Rating Range: A significant number of movies are rated between 6 and 8, indicating that viewers tend to favor films that are perceived as \"good\" to \"very good,\" reflecting a common benchmark for quality in the dataset.\n",
    "\n",
    "2. Slight Positive Bias: The distribution shows a tendency towards higher ratings (8-10), suggesting that users are more inclined to award positive ratings. This might indicate an overall positive sentiment in the audience's perception of movies.\n",
    "\n",
    "3. Rarity of Low Ratings: The scarcity of ratings below 4 implies that the IMDb community is either reluctant to classify films as extremely poor or that the dataset includes fewer low-quality films, reflecting a potential bias towards more popular or well-regarded movies.\n",
    "\n",
    "4. Limited High Ratings: The sharp decline in the frequency of ratings above 8 suggests that very few films achieve exceptional acclaim. This aligns with industry norms where only a handful of movies are universally praised, indicating a high standard for critical success.\n",
    "\n",
    "5. Conservative Rating Behavior: The narrow distribution of ratings around the mean (primarily between 6 and 8) reflects a conservative approach by viewers when rating movies. This suggests that while many films are appreciated, few are seen as outstanding or poor, leading to a clustering of ratings in the middle range."
   ]
  },
  {
   "cell_type": "code",
   "execution_count": 70,
   "metadata": {},
   "outputs": [
    {
     "name": "stdout",
     "output_type": "stream",
     "text": [
      "Frequency of each rating:\n",
      " 1.0      2\n",
      "1.1      1\n",
      "1.2      2\n",
      "1.3      3\n",
      "1.4      6\n",
      "        ..\n",
      "9.6     14\n",
      "9.7      6\n",
      "9.8      4\n",
      "9.9      3\n",
      "10.0     7\n",
      "Name: Rating(10), Length: 91, dtype: int64\n",
      "\n",
      "Most common rating: 7.0\n"
     ]
    }
   ],
   "source": [
    "#2. Most Common Ratings Given \n",
    "most_common_rating=Movies_copy['Rating(10)'].mode()[0]\n",
    "rating_count=Movies_copy['Rating(10)'].value_counts().sort_index()\n",
    "print(\"Frequency of each rating:\\n\", rating_count)\n",
    "print(\"\\nMost common rating:\", most_common_rating)"
   ]
  },
  {
   "cell_type": "code",
   "execution_count": 111,
   "metadata": {},
   "outputs": [
    {
     "data": {
      "text/plain": [
       "Drama            20557\n",
       "Not Available     7222\n",
       "Action            6141\n",
       "Comedy            5645\n",
       "Romance           5387\n",
       "Thriller          3494\n",
       "Crime             2112\n",
       "Family            2006\n",
       "Short             1569\n",
       "Musical           1186\n",
       "Horror             937\n",
       "Mystery            921\n",
       "Adventure          795\n",
       "Fantasy            709\n",
       "Documentary        520\n",
       "History            427\n",
       "Biography          423\n",
       "Music              334\n",
       "Animation          203\n",
       "Sport              158\n",
       "Sci-Fi             140\n",
       "War                140\n",
       "Talk-Show           56\n",
       "Reality-TV          38\n",
       "News                25\n",
       "Game-Show           11\n",
       "Western              8\n",
       "Name: Genre, dtype: int64"
      ]
     },
     "execution_count": 111,
     "metadata": {},
     "output_type": "execute_result"
    }
   ],
   "source": [
    "# 3. Analyzing Genre Distribution\n",
    "df_cleaned_genre = Movies_copy[Movies_copy['Genre'] != ''].copy()\n",
    "df_cleaned_genre['Genre'] = df_cleaned_genre['Genre'].str.split(',')\n",
    "df_exploded_genre = df_cleaned_genre.explode('Genre').reset_index(drop=True)\n",
    "df_exploded_genre['Genre'] = df_exploded_genre['Genre'].str.strip()\n",
    "genre_distribution = df_exploded_genre['Genre'].value_counts()\n",
    "genre_distribution\n"
   ]
  },
  {
   "cell_type": "code",
   "execution_count": 112,
   "metadata": {},
   "outputs": [
    {
     "data": {
      "image/png": "[encoded data removed]",
      "text/plain": [
       "<Figure size 1200x600 with 1 Axes>"
      ]
     },
     "metadata": {},
     "output_type": "display_data"
    }
   ],
   "source": [
    "plt.figure(figsize=(12, 6))\n",
    "sns.countplot(data=df_exploded_genre, y='Genre', order=genre_distribution.index, palette='viridis')\n",
    "plt.title('Distribution of Movie Genres')\n",
    "plt.xlabel('Number of Movies')\n",
    "plt.ylabel('Genre')\n",
    "plt.grid(axis='x')\n",
    "plt.tight_layout()\n",
    "plt.show()"
   ]
  },
  {
   "cell_type": "markdown",
   "metadata": {},
   "source": [
    "## Key Insights on Genre Distribution\n",
    "\n",
    "1. **Dominance of Drama**: Drama is overwhelmingly the most common genre, with over 20,000 movies classified under it. This reflects the genre's wide appeal, dealing with emotional narratives that resonate across different cultures.\n",
    "\n",
    "2. **Popularity of Action, Romance, and Comedy**: Action, Romance, and Comedy together cover a significant portion of the dataset, highlighting their commercial and popular appeal in cinema.\n",
    "\n",
    "3. **Presence of Thriller and Crime**: Thriller and Crime genres also have a strong presence, suggesting a demand for suspenseful narratives in movies.\n",
    "\n",
    "4. **Limited Representation of Certain Genres**: Animation, Sci-Fi, Sport, and War have much fewer entries, indicating either limited production or specialized audience preferences. For example, Sci-Fi has only 140 movies, while Animation has 203.\n",
    "\n",
    "5. **Rarity of Certain Formats**: Talk-Show, Reality-TV, News, Game-Show, and Western genres are extremely rare, each with fewer than 100 movies. These genres are typically more associated with TV programming than with movies.\n"
   ]
  },
  {
   "cell_type": "markdown",
   "metadata": {},
   "source": [
    "# **Task 4**\n",
    "\n",
    "## Bivariate and Multivariate Analysis:\n",
    "\n",
    "1. Explore the relationship between user demographics (age, gender) and ratings. For\n",
    "example:<br>  i. Are certain age groups more likely to rate higher or lower?\n",
    "        <br> ii. Do male and female users rate movies differently?\n",
    "2. Investigate how genre preferences vary by user demographics (age, gender).\n",
    "3. Explore correlations between movie ratings and genres."
   ]
  },
  {
   "cell_type": "markdown",
   "metadata": {},
   "source": [
    " ## We can't Perform the first two analysis of Task 4, as there is no columns present for user specific data e.g. age, gender in dataset. So we skipping those analysis."
   ]
  },
  {
   "cell_type": "code",
   "execution_count": 117,
   "metadata": {},
   "outputs": [
    {
     "data": {
      "text/plain": [
       "Genre\n",
       "Documentary      7.173846\n",
       "Short            7.130210\n",
       "News             7.096000\n",
       "History          7.083138\n",
       "Biography        7.058865\n",
       "Talk-Show        7.025000\n",
       "War              6.996429\n",
       "Reality-TV       6.878947\n",
       "Music            6.868263\n",
       "Not Available    6.859900\n",
       "Game-Show        6.809091\n",
       "Family           6.706530\n",
       "Drama            6.676767\n",
       "Sport            6.664557\n",
       "Animation        6.638916\n",
       "Musical          6.604300\n",
       "Fantasy          6.577856\n",
       "Sci-Fi           6.482857\n",
       "Mystery          6.457329\n",
       "Adventure        6.431447\n",
       "Thriller         6.420063\n",
       "Western          6.412500\n",
       "Romance          6.408855\n",
       "Crime            6.286364\n",
       "Comedy           6.253392\n",
       "Action           6.186989\n",
       "Horror           6.088794\n",
       "Name: Rating(10), dtype: float64"
      ]
     },
     "execution_count": 117,
     "metadata": {},
     "output_type": "execute_result"
    }
   ],
   "source": [
    "# 3. Corelation between movie ratings And genres\n",
    "\n",
    "# Calculate the average rating for each genre\n",
    "genre_rating_correlation = df_exploded_genre.groupby('Genre')['Rating(10)'].mean().sort_values(ascending=False)\n",
    "\n",
    "# # Display the average rating for each genre\n",
    "genre_rating_correlation"
   ]
  },
  {
   "cell_type": "code",
   "execution_count": 115,
   "metadata": {},
   "outputs": [
    {
     "name": "stderr",
     "output_type": "stream",
     "text": [
      "C:\\Users\\Suman Mondal\\AppData\\Local\\Temp\\ipykernel_10164\\2801059095.py:9: FutureWarning: In a future version of pandas all arguments of DataFrame.pivot will be keyword-only.\n",
      "  heatmap_pivot = heatmap_data.pivot(\"Genre\", \"Average Rating\", \"Average Rating\")\n"
     ]
    },
    {
     "data": {
      "image/png": "[encoded data removed]",
      "text/plain": [
       "<Figure size 1000x800 with 2 Axes>"
      ]
     },
     "metadata": {},
     "output_type": "display_data"
    }
   ],
   "source": [
    "# Create a DataFrame for the heatmap\n",
    "heatmap_data = genre_rating_correlation.reset_index()\n",
    "heatmap_data.columns = ['Genre', 'Average Rating']\n",
    "\n",
    "# Reshape the data for the heatmap (optional, if you want to display it in a grid format)\n",
    "heatmap_pivot = heatmap_data.pivot(\"Genre\", \"Average Rating\", \"Average Rating\")\n",
    "\n",
    "# Plotting the heatmap\n",
    "plt.figure(figsize=(10, 8))\n",
    "sns.heatmap(heatmap_pivot, annot=True, fmt=\".1f\", cmap=\"YlGnBu\", cbar_kws={'label': 'Average Rating'})\n",
    "plt.title('Heatmap of Average Ratings by Genre')\n",
    "plt.xlabel('Average Rating')\n",
    "plt.ylabel('Genre')\n",
    "plt.show()"
   ]
  },
  {
   "cell_type": "markdown",
   "metadata": {},
   "source": [
    "## Key Insights on Average Genre Ratings\n",
    "\n",
    "1. **High Ratings for Informative Content**: Documentary (7.17), Short (7.13), and News (7.10) genres consistently lead in average ratings, reflecting a strong audience appreciation for informative and concise storytelling. This trend suggests that viewers are increasingly drawn to content that offers educational value, insights into real-world events, and thought-provoking narratives. The higher ratings indicate that such genres are not only well-received but also fulfill a significant demand for quality informational content in a diverse media landscape.<br>\n",
    "\n",
    "2. **Mixed Reviews for Certain Genres**: Genres like War (6.99), Reality-TV (6.88), and Music (6.87) hover around the average rating mark, indicating that while they successfully attract substantial viewership, they often encounter divided opinions. This phenomenon might stem from the reliance on familiar tropes or formulaic storytelling, which can lead to viewer fatigue and diminished satisfaction. The varying execution quality within these genres may also contribute to the inconsistency in audience ratings, suggesting that content creators need to innovate to elevate the overall viewing experience.<br>\n",
    "\n",
    "3. **Mid-to-Low Ratings for Broad Appeal Genres**: Family (6.71), Drama (6.68), and Sport (6.66) genres display mid-to-low average ratings, which is noteworthy considering their traditional appeal to a wide audience base. These lower ratings could signal a saturation of similar content in these categories, leading to unmet expectations among viewers. Additionally, as audiences become more discerning, there may be a growing demand for originality and emotional depth in storytelling to engage them effectively.<br>\n",
    "\n",
    "4. **Need for Innovation in Animation and Fantasy**: Animation (6.64), Musical (6.60), and Fantasy (6.58) genres feature lower average ratings, indicating a potential need for creative revitalization. The lower scores may highlight challenges in meeting the evolving tastes of audiences who seek not just entertainment but also innovative storytelling and high production values. In the case of animation, this disparity could reflect a divide between family-oriented films and more adult-themed content, suggesting that creators should explore diverse narratives to cater to varying audience segments.<br>\n",
    "\n",
    "5. **Low Ratings for Horror and Action**: Genres like Horror (6.09) and Action (6.19) rank among the lowest in terms of average ratings. This trend could be attributed to the prevalence of low-quality films that saturate these genres, leading to viewer disappointment and disengagement. Additionally, audience fatigue with clichéd storylines and predictable tropes may further diminish satisfaction. The inherently subjective nature of horror and action genres also introduces variability in viewer experiences, indicating a pressing need for fresh, innovative approaches to reinvigorate these popular genres and enhance viewer enjoyment.\n"
   ]
  },
  {
   "cell_type": "markdown",
   "metadata": {},
   "source": [
    "# **Task 5**\n",
    "\n",
    "## Popular Movies and Trends:\n",
    "1. Identify the top 10 highest-rated movies.\n",
    "2. Find the top 10 most-watched movies (by the number of ratings).\n",
    "3. Explore if certain movie genres have higher average ratings."
   ]
  },
  {
   "cell_type": "code",
   "execution_count": 118,
   "metadata": {},
   "outputs": [
    {
     "data": {
      "text/html": [
       "<div>\n",
       "<style scoped>\n",
       "    .dataframe tbody tr th:only-of-type {\n",
       "        vertical-align: middle;\n",
       "    }\n",
       "\n",
       "    .dataframe tbody tr th {\n",
       "        vertical-align: top;\n",
       "    }\n",
       "\n",
       "    .dataframe thead th {\n",
       "        text-align: right;\n",
       "    }\n",
       "</style>\n",
       "<table border=\"1\" class=\"dataframe\">\n",
       "  <thead>\n",
       "    <tr style=\"text-align: right;\">\n",
       "      <th></th>\n",
       "      <th>Movie Name</th>\n",
       "      <th>Rating(10)</th>\n",
       "    </tr>\n",
       "  </thead>\n",
       "  <tbody>\n",
       "    <tr>\n",
       "      <th>0</th>\n",
       "      <td>Antak</td>\n",
       "      <td>10.0</td>\n",
       "    </tr>\n",
       "    <tr>\n",
       "      <th>1</th>\n",
       "      <td>Ilu-Ilu</td>\n",
       "      <td>10.0</td>\n",
       "    </tr>\n",
       "    <tr>\n",
       "      <th>2</th>\n",
       "      <td>Ashi Fasli Nanachi Tang</td>\n",
       "      <td>10.0</td>\n",
       "    </tr>\n",
       "    <tr>\n",
       "      <th>3</th>\n",
       "      <td>Marasim - Beyond Borders</td>\n",
       "      <td>10.0</td>\n",
       "    </tr>\n",
       "    <tr>\n",
       "      <th>4</th>\n",
       "      <td>Bihari Binani</td>\n",
       "      <td>10.0</td>\n",
       "    </tr>\n",
       "    <tr>\n",
       "      <th>5</th>\n",
       "      <td>Harsukh</td>\n",
       "      <td>10.0</td>\n",
       "    </tr>\n",
       "    <tr>\n",
       "      <th>6</th>\n",
       "      <td>An Extraordinary Journey</td>\n",
       "      <td>10.0</td>\n",
       "    </tr>\n",
       "    <tr>\n",
       "      <th>7</th>\n",
       "      <td>The Invisible Humans</td>\n",
       "      <td>9.9</td>\n",
       "    </tr>\n",
       "    <tr>\n",
       "      <th>8</th>\n",
       "      <td>Maassab (The Teacher)</td>\n",
       "      <td>9.9</td>\n",
       "    </tr>\n",
       "    <tr>\n",
       "      <th>9</th>\n",
       "      <td>The Survivor</td>\n",
       "      <td>9.9</td>\n",
       "    </tr>\n",
       "  </tbody>\n",
       "</table>\n",
       "</div>"
      ],
      "text/plain": [
       "                 Movie Name  Rating(10)\n",
       "0                     Antak        10.0\n",
       "1                   Ilu-Ilu        10.0\n",
       "2   Ashi Fasli Nanachi Tang        10.0\n",
       "3  Marasim - Beyond Borders        10.0\n",
       "4             Bihari Binani        10.0\n",
       "5                   Harsukh        10.0\n",
       "6  An Extraordinary Journey        10.0\n",
       "7      The Invisible Humans         9.9\n",
       "8     Maassab (The Teacher)         9.9\n",
       "9              The Survivor         9.9"
      ]
     },
     "execution_count": 118,
     "metadata": {},
     "output_type": "execute_result"
    }
   ],
   "source": [
    "# 1. The top 10 highest-rated movies.\n",
    "top_10_movies = Movies_copy[['Movie Name', 'Rating(10)']].sort_values(by='Rating(10)', ascending=False).head(10)\n",
    "top_10_movies.reset_index(drop=True, inplace=True)\n",
    "top_10_movies"
   ]
  },
  {
   "cell_type": "code",
   "execution_count": 119,
   "metadata": {},
   "outputs": [
    {
     "data": {
      "text/html": [
       "<div>\n",
       "<style scoped>\n",
       "    .dataframe tbody tr th:only-of-type {\n",
       "        vertical-align: middle;\n",
       "    }\n",
       "\n",
       "    .dataframe tbody tr th {\n",
       "        vertical-align: top;\n",
       "    }\n",
       "\n",
       "    .dataframe thead th {\n",
       "        text-align: right;\n",
       "    }\n",
       "</style>\n",
       "<table border=\"1\" class=\"dataframe\">\n",
       "  <thead>\n",
       "    <tr style=\"text-align: right;\">\n",
       "      <th></th>\n",
       "      <th>Movie Name</th>\n",
       "      <th>Votes</th>\n",
       "    </tr>\n",
       "  </thead>\n",
       "  <tbody>\n",
       "    <tr>\n",
       "      <th>0</th>\n",
       "      <td>Iron Man</td>\n",
       "      <td>954861</td>\n",
       "    </tr>\n",
       "    <tr>\n",
       "      <th>1</th>\n",
       "      <td>Indiana Jones and the Raiders of the Lost Ark</td>\n",
       "      <td>894336</td>\n",
       "    </tr>\n",
       "    <tr>\n",
       "      <th>2</th>\n",
       "      <td>Star Wars: Episode I - The Phantom Menace</td>\n",
       "      <td>740452</td>\n",
       "    </tr>\n",
       "    <tr>\n",
       "      <th>3</th>\n",
       "      <td>3 Idiots</td>\n",
       "      <td>351187</td>\n",
       "    </tr>\n",
       "    <tr>\n",
       "      <th>4</th>\n",
       "      <td>Zero Dark Thirty</td>\n",
       "      <td>275912</td>\n",
       "    </tr>\n",
       "    <tr>\n",
       "      <th>5</th>\n",
       "      <td>The Jungle Book</td>\n",
       "      <td>261319</td>\n",
       "    </tr>\n",
       "    <tr>\n",
       "      <th>6</th>\n",
       "      <td>Eastern Promises</td>\n",
       "      <td>230284</td>\n",
       "    </tr>\n",
       "    <tr>\n",
       "      <th>7</th>\n",
       "      <td>Escape Plan</td>\n",
       "      <td>229488</td>\n",
       "    </tr>\n",
       "    <tr>\n",
       "      <th>8</th>\n",
       "      <td>Get Smart</td>\n",
       "      <td>205758</td>\n",
       "    </tr>\n",
       "    <tr>\n",
       "      <th>9</th>\n",
       "      <td>A Good Day to Die Hard</td>\n",
       "      <td>199575</td>\n",
       "    </tr>\n",
       "  </tbody>\n",
       "</table>\n",
       "</div>"
      ],
      "text/plain": [
       "                                      Movie Name   Votes\n",
       "0                                       Iron Man  954861\n",
       "1  Indiana Jones and the Raiders of the Lost Ark  894336\n",
       "2      Star Wars: Episode I - The Phantom Menace  740452\n",
       "3                                       3 Idiots  351187\n",
       "4                               Zero Dark Thirty  275912\n",
       "5                                The Jungle Book  261319\n",
       "6                               Eastern Promises  230284\n",
       "7                                    Escape Plan  229488\n",
       "8                                      Get Smart  205758\n",
       "9                         A Good Day to Die Hard  199575"
      ]
     },
     "execution_count": 119,
     "metadata": {},
     "output_type": "execute_result"
    }
   ],
   "source": [
    "# 2.The top 10 most-watched movies (by the number of votes).\n",
    "top_10_most_watched = Movies_copy[['Movie Name', 'Votes']].sort_values(by='Votes', ascending=False).head(10)\n",
    "top_10_most_watched.reset_index(drop=True, inplace=True)\n",
    "top_10_most_watched"
   ]
  },
  {
   "cell_type": "markdown",
   "metadata": {},
   "source": [
    "In Task 5 2nd analysis asked to find the top 10 most-watched movies (by the number of ratings). instead we perform The top 10 most-watched movies (by the number of votes). As in dataset there is column mentioning how many ratings a movie received by viewrs. Rating(10) columnn is present in dataset but if we take consider that column it will give same result as top 10 rated movies instead of top most watched movies. So we consider votes column will be more suitable to do analysis as we can consider more a movie watched by user it gets more votes."
   ]
  },
  {
   "cell_type": "code",
   "execution_count": 120,
   "metadata": {},
   "outputs": [
    {
     "data": {
      "text/plain": [
       "Genre\n",
       "Documentary    7.173846\n",
       "Short          7.130210\n",
       "News           7.096000\n",
       "History        7.083138\n",
       "Biography      7.058865\n",
       "Name: Rating(10), dtype: float64"
      ]
     },
     "execution_count": 120,
     "metadata": {},
     "output_type": "execute_result"
    }
   ],
   "source": [
    "# 3.Top 5 Movie genres having higher average ratings.\n",
    "movie_genres_with_high_average_ratings=df_exploded_genre.groupby('Genre')['Rating(10)'].mean().sort_values(ascending=False)\n",
    "movie_genres_with_high_average_ratings.head(5)"
   ]
  },
  {
   "cell_type": "markdown",
   "metadata": {},
   "source": [
    "# **Task 6**\n",
    "\n",
    "## Time-Based Analysis:\n",
    "\n",
    "1. Perform an analysis to see how ratings have changed over time (using the\n",
    "timestamp).\n",
    "2. Investigate if there are particular years or seasons where movies receive higher\n",
    "ratings"
   ]
  },
  {
   "cell_type": "code",
   "execution_count": 127,
   "metadata": {},
   "outputs": [
    {
     "data": {
      "image/png": "[encoded data removed]",
      "text/plain": [
       "<Figure size 1200x600 with 1 Axes>"
      ]
     },
     "metadata": {},
     "output_type": "display_data"
    }
   ],
   "source": [
    "# 1. analysis to see how ratings have changed over time\n",
    "\n",
    "# Convert the year into decades as there are so many unique year\n",
    "Movies_copy['decade'] = (Movies_copy['Year'] // 10) * 10\n",
    "\n",
    "# Group data by decade and calculate average ratings\n",
    "average_ratings_by_decade = Movies_copy.groupby('decade')['Rating(10)'].mean().reset_index()\n",
    "\n",
    "# Plotting the trend of average ratings over decades\n",
    "plt.figure(figsize=(12, 6))\n",
    "plt.plot(average_ratings_by_decade['decade'], average_ratings_by_decade['Rating(10)'], marker='o')\n",
    "plt.title('Average Movie Ratings Over Decades')\n",
    "plt.xlabel('Decade')\n",
    "plt.ylabel('Average Rating (out of 10)')\n",
    "plt.xticks(average_ratings_by_decade['decade'], rotation=45)  # Rotate x-axis labels for better readability\n",
    "plt.grid()\n",
    "plt.tight_layout()\n",
    "plt.show()"
   ]
  },
  {
   "cell_type": "markdown",
   "metadata": {},
   "source": [
    "## **Key Insights:**\n",
    "\n",
    "1. Early 20th Century Peak: The graph shows that movies from the 1920s achieved the highest average ratings, around 7.0. This suggests that films from this era were particularly well-received by audiences, potentially reflecting the excitement of early filmmaking innovations like silent films and the birth of Hollywood.\n",
    "\n",
    "2. Stable Period from 1930s to 1960s: From the 1930s to the 1960s, average ratings remained consistently high, fluctuating between 6.8 and 7.0. This stability indicates a period of cinematic growth and maturation, possibly due to the establishment of genres, classic Hollywood filmmaking techniques, and the golden age of cinema.\n",
    "\n",
    "3. Ratings Decline in the 1970s and 2000s: Starting in the 1970s, the average ratings of movies show a clear decline, reaching their lowest point in the 2000s at around 6.4. This drop could be due to changes in the film industry, such as the rise of blockbuster movies, commercialization, or shifting audience tastes toward more diverse entertainment options.\n",
    "\n",
    "4. Resurgence in the 2010s: There is a notable recovery in the 2010s, with ratings climbing back to around 7.0 in the 2020s. This rise might be driven by technological advancements, the growing impact of global cinema, and the increasing diversity of content that resonates with modern audiences.\n",
    "\n",
    "5. Cyclical Trends: The ratings exhibit a cyclical pattern, with periods of peak and decline, reflecting evolving filmmaking styles, industry dynamics, and changing audience expectations over the decades."
   ]
  },
  {
   "cell_type": "code",
   "execution_count": 129,
   "metadata": {},
   "outputs": [
    {
     "data": {
      "text/html": [
       "<div>\n",
       "<style scoped>\n",
       "    .dataframe tbody tr th:only-of-type {\n",
       "        vertical-align: middle;\n",
       "    }\n",
       "\n",
       "    .dataframe tbody tr th {\n",
       "        vertical-align: top;\n",
       "    }\n",
       "\n",
       "    .dataframe thead th {\n",
       "        text-align: right;\n",
       "    }\n",
       "</style>\n",
       "<table border=\"1\" class=\"dataframe\">\n",
       "  <thead>\n",
       "    <tr style=\"text-align: right;\">\n",
       "      <th></th>\n",
       "      <th>Year</th>\n",
       "      <th>Rating(10)</th>\n",
       "    </tr>\n",
       "  </thead>\n",
       "  <tbody>\n",
       "    <tr>\n",
       "      <th>0</th>\n",
       "      <td>1930</td>\n",
       "      <td>7.150000</td>\n",
       "    </tr>\n",
       "    <tr>\n",
       "      <th>1</th>\n",
       "      <td>1948</td>\n",
       "      <td>7.023485</td>\n",
       "    </tr>\n",
       "    <tr>\n",
       "      <th>2</th>\n",
       "      <td>1953</td>\n",
       "      <td>7.021583</td>\n",
       "    </tr>\n",
       "    <tr>\n",
       "      <th>3</th>\n",
       "      <td>1950</td>\n",
       "      <td>7.019079</td>\n",
       "    </tr>\n",
       "    <tr>\n",
       "      <th>4</th>\n",
       "      <td>1949</td>\n",
       "      <td>7.016429</td>\n",
       "    </tr>\n",
       "    <tr>\n",
       "      <th>5</th>\n",
       "      <td>1955</td>\n",
       "      <td>7.009694</td>\n",
       "    </tr>\n",
       "    <tr>\n",
       "      <th>6</th>\n",
       "      <td>1938</td>\n",
       "      <td>7.007865</td>\n",
       "    </tr>\n",
       "    <tr>\n",
       "      <th>7</th>\n",
       "      <td>1947</td>\n",
       "      <td>7.006306</td>\n",
       "    </tr>\n",
       "    <tr>\n",
       "      <th>8</th>\n",
       "      <td>1940</td>\n",
       "      <td>7.004762</td>\n",
       "    </tr>\n",
       "    <tr>\n",
       "      <th>9</th>\n",
       "      <td>1913</td>\n",
       "      <td>7.000000</td>\n",
       "    </tr>\n",
       "  </tbody>\n",
       "</table>\n",
       "</div>"
      ],
      "text/plain": [
       "   Year  Rating(10)\n",
       "0  1930    7.150000\n",
       "1  1948    7.023485\n",
       "2  1953    7.021583\n",
       "3  1950    7.019079\n",
       "4  1949    7.016429\n",
       "5  1955    7.009694\n",
       "6  1938    7.007865\n",
       "7  1947    7.006306\n",
       "8  1940    7.004762\n",
       "9  1913    7.000000"
      ]
     },
     "execution_count": 129,
     "metadata": {},
     "output_type": "execute_result"
    }
   ],
   "source": [
    "# 2. years or seasons where movies receive higher ratings\n",
    "\n",
    "ratings_over_time = Movies_copy.groupby('Year')['Rating(10)'].mean().sort_values(ascending=False).reset_index()\n",
    "ratings_over_time.head(10)"
   ]
  },
  {
   "cell_type": "markdown",
   "metadata": {},
   "source": [
    "# **Conclusion:**\n",
    "\n",
    "1. The analysis of movie ratings reveals a distinct pattern in audience behavior. The majority of movies are rated between 6 and 8, reflecting a general tendency for viewers to classify films as \"good\" or \"very good.\" This clustering of ratings in the mid-range suggests conservative rating habits, with audiences being cautious about rating movies either too high or too low. There is also a slight positive bias, with a higher frequency of ratings leaning towards the positive side (8-10), indicating a general preference for awarding favorable ratings. Conversely, ratings below 4 are rare, possibly due to the reluctance of users to classify films as extremely poor, or a reflection of a dataset that favors more popular, well-regarded films. Exceptional ratings (above 8) are scarce, aligning with industry trends where only a few films achieve universal acclaim, underscoring the high bar set for critical success.\n",
    "\n",
    "2. The genre distribution analysis shows that Drama dominates the dataset, with over 20,000 movies, reflecting its broad cultural appeal and emotional resonance across audiences. Action, Romance, and Comedy follow closely in popularity, highlighting their strong commercial success and widespread audience engagement. Thriller and Crime also maintain a significant presence, suggesting a high demand for suspense-driven narratives. In contrast, Animation, Sci-Fi, Sport, and War genres are much less represented, likely due to more niche production or specialized audience preferences. Additionally, genres like Talk-Show, Reality-TV, News, Game-Show, and Western are extremely rare in the dataset, reflecting their stronger association with TV programming rather than cinema.\n",
    "\n",
    "3. The analysis of average genre ratings reveals that Documentary, Short, and News genres receive the highest ratings, indicating a strong viewer preference for informative, concise storytelling that offers educational value and real-world insights. War, Reality-TV, and Music genres perform around the average rating, reflecting mixed audience reactions, possibly due to formulaic content or execution inconsistencies. Despite their broad appeal, Family, Drama, and Sport genres show mid-to-low average ratings, which may suggest content saturation or unmet audience expectations for originality and depth. Animation, Musical, and Fantasy genres also suffer from lower ratings, indicating a need for innovation to meet evolving viewer preferences and demands for more sophisticated storytelling. Horror and Action, with the lowest average ratings, seem particularly affected by genre fatigue, clichéd tropes, and variable execution quality, highlighting the need for fresh, creative approaches to reinvigorate these popular but struggling genres.\n",
    "\n",
    "4. The analysis of movie ratings over time reveals notable cyclical patterns. Movies from the 1920s achieved the highest average ratings, around 7.0, reflecting the audience's excitement over early filmmaking innovations and the dawn of Hollywood. From the 1930s to the 1960s, ratings remained consistently high, suggesting a period of cinematic growth during the golden age of cinema, as genres solidified and filmmaking techniques matured. However, a decline in ratings began in the 1970s and continued into the 2000s, where ratings hit a low point of 6.4. This may be attributed to industry shifts like the rise of blockbusters and commercialization. Encouragingly, there is a resurgence in the 2010s, with ratings climbing back to 7.0 in the 2020s, driven by technological advancements, global cinema's influence, and diverse content catering to modern tastes. These fluctuations highlight the cyclical nature of movie ratings, shaped by evolving industry dynamics and audience expectations.\n",
    "\n",
    "\n",
    "\n",
    "\n",
    "\n",
    "\n",
    "\n",
    "\n",
    "\n"
   ]
  },
  {
   "cell_type": "markdown",
   "metadata": {},
   "source": [
    "# **Areas for Further Analysis and Recommendations for Improving User Engagement:**\n",
    "\n",
    "## Genre-Specific Engagement Strategies: \n",
    "Further analysis can focus on understanding why certain genres, like Horror and Action, receive lower average ratings. Investigating viewer feedback, reviews, or patterns in low-rated movies could reveal insights into audience fatigue or dissatisfaction with formulaic content. Based on these findings, content creators could introduce innovative storylines or revitalized production techniques to enhance viewer engagement in these genres.\n",
    "\n",
    "## Exploring Audience Demographics:\n",
    " Analyzing ratings based on demographic data (e.g., age, gender, region) could provide a deeper understanding of how different audience segments respond to various genres and films. This could help platforms tailor their content recommendations and marketing strategies to specific user groups, improving personalization and satisfaction.\n",
    "\n",
    "## Impact of Technological Advancements: \n",
    "Investigating how new technologies like streaming platforms, CGI, and immersive formats (such as VR/AR) impact ratings could offer insights into what technological innovations resonate most with audiences. Encouraging interactive or enhanced viewing experiences might drive higher engagement and ratings.\n",
    "\n",
    "## Decade-Based Trends in Movie Preferences:\n",
    " With the notable cyclical trends in ratings, further analysis could look into what specific elements of filmmaking or cultural trends contribute to the rise and fall of ratings across different decades. Recommendations based on this insight might include revisiting successful past movie elements or styles to cater to nostalgia while integrating modern sensibilities.\n",
    "\n",
    "## Encouraging Quality over Quantity in Content: \n",
    "The steady decline in ratings from the 1970s to 2000s, followed by a resurgence, suggests that an emphasis on high-quality, diverse content is essential for sustaining audience interest. Platforms and filmmakers should focus on storytelling innovation, emotional depth, and production quality across all genres to maintain high ratings and ensure long-term engagement.\n",
    "\n",
    "## Engaging Niche Genre Audiences:\n",
    " Certain genres, such as Documentary, Short, and News, receive consistently high ratings. Further analysis into what drives user satisfaction in these genres can offer strategies to improve engagement across other genres. Expanding content offerings in highly rated niche genres could also help diversify the platform’s audience base and provide a broader range of viewing options.\n",
    "\n",
    "**By analyzing these areas in more detail and applying targeted engagement strategies, user satisfaction and retention could be significantly improved.**"
   ]
  }
 ],
 "metadata": {
  "kernelspec": {
   "display_name": "base",
   "language": "python",
   "name": "python3"
  },
  "language_info": {
   "codemirror_mode": {
    "name": "ipython",
    "version": 3
   },
   "file_extension": ".py",
   "mimetype": "text/x-python",
   "name": "python",
   "nbconvert_exporter": "python",
   "pygments_lexer": "ipython3",
   "version": "3.10.9"
  }
 },
 "nbformat": 4,
 "nbformat_minor": 2
}
